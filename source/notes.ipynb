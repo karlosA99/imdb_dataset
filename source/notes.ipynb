{
 "cells": [
  {
   "attachments": {},
   "cell_type": "markdown",
   "metadata": {},
   "source": [
    "# Titulo\n",
    "---\n",
    "\n",
    "Explicar aqui para que es este notebook\n",
    "Poner la url del dataset original"
   ]
  },
  {
   "attachments": {},
   "cell_type": "markdown",
   "metadata": {},
   "source": [
    "### Dependencias"
   ]
  },
  {
   "cell_type": "code",
   "execution_count": null,
   "metadata": {},
   "outputs": [],
   "source": [
    "import pandas as pd\n",
    "import shutil\n",
    "from random import randint\n",
    "from numpy import nan"
   ]
  },
  {
   "attachments": {},
   "cell_type": "markdown",
   "metadata": {},
   "source": [
    "# Dataset\n",
    "---\n",
    "Hablar aqui un poco del dataset y de cuantos datos se van a seleccionar y de que se va a usar pandas."
   ]
  },
  {
   "attachments": {},
   "cell_type": "markdown",
   "metadata": {},
   "source": [
    "Poner aqui la explicacion de lo que se va  ahacer en el codigo de abajo."
   ]
  },
  {
   "cell_type": "code",
   "execution_count": null,
   "metadata": {},
   "outputs": [],
   "source": [
    "def add_reviews_from_to(source, dest, random_choice, *new_cols):\n",
    "    old_reviews = pd.read_csv(source)\n",
    "    print(old_reviews)\n",
    "    try:\n",
    "        extended_reviews = pd.read_csv(dest)\n",
    "    except:\n",
    "        \n",
    "        old_cols = list(old_reviews.columns)\n",
    "        cols_names = old_cols[:-1] + list(new_cols) + [old_cols[-1]]\n",
    "        \n",
    "        extended_reviews = pd.DataFrame(columns=cols_names)\n",
    "        \n",
    "    print(extended_reviews)\n",
    "    #copiar todo el dataset\n",
    "    if not random_choice:\n",
    "        for col in old_reviews:\n",
    "            extended_reviews[col] = old_reviews[col]\n",
    "    else:\n",
    "        count_revs = random_choice\n",
    "        while count_revs > 0:\n",
    "            rnd = randint(0, old_reviews.shape[0] - 1)\n",
    "            review = old_reviews['Review'].iloc[rnd]\n",
    "            sentiment = old_reviews['Sentiment'].iloc[rnd]\n",
    "            \n",
    "            if sentiment == 0:\n",
    "                sentiment = 'negative'\n",
    "            if sentiment == 1:\n",
    "                sentiment = 'positive' \n",
    "                        \n",
    "            if review not in extended_reviews['Review'].values:\n",
    "                count_revs -= 1\n",
    "                new_row = pd.DataFrame({'Review': [review], 'Sentiment': [sentiment]})\n",
    "                extended_reviews = pd.concat([extended_reviews, new_row], ignore_index=True)\n",
    "    \n",
    "    extended_reviews.to_csv(dest, index=False)"
   ]
  },
  {
   "attachments": {},
   "cell_type": "markdown",
   "metadata": {},
   "source": [
    "Explicar aqui lo que se hace debajo"
   ]
  },
  {
   "cell_type": "code",
   "execution_count": null,
   "metadata": {},
   "outputs": [],
   "source": [
    "add_reviews_from_to('data/reviews.csv', 'data/extended_reviews.csv', 0, 'Race')\n",
    "add_reviews_from_to('data/train_data.csv', 'data/extended_reviews.csv', 80)\n"
   ]
  },
  {
   "attachments": {},
   "cell_type": "markdown",
   "metadata": {},
   "source": [
    "Hablar del proximo paso a seguir"
   ]
  },
  {
   "attachments": {},
   "cell_type": "markdown",
   "metadata": {},
   "source": [
    "Mencionar lo metodos auxiliares que se implementan a continuacion"
   ]
  },
  {
   "cell_type": "code",
   "execution_count": null,
   "metadata": {},
   "outputs": [],
   "source": [
    "def int_to_gender(number): \n",
    "    switcher = {\n",
    "        '1': \"Male\",\n",
    "        '2': \"Female\",\n",
    "        '3': \"Male, Female\",\n",
    "        '4': nan}\n",
    "    return switcher.get(number, nan)\n",
    "\n",
    "def int_to_race(number):\n",
    "    switcher = {\n",
    "        '1': \"Black\",\n",
    "        '2': \"White\",\n",
    "        '3': \"Asian\",\n",
    "        '4': \"Latino\",\n",
    "        '5': 'Native American',\n",
    "        '6': 'Indian',\n",
    "        '7': 'Arab',\n",
    "        '8': nan}\n",
    "    return switcher.get(number, nan)\n",
    "\n",
    "def list_to_races(numbers):\n",
    "    numbers = numbers.split(',')\n",
    "    races_str = ''\n",
    "    for n in numbers:\n",
    "        races_str += int_to_race(n) + ','\n",
    "    return races_str[:-1]"
   ]
  },
  {
   "attachments": {},
   "cell_type": "markdown",
   "metadata": {},
   "source": [
    "Ahora hablar algo corto del metodo siguiente (porque ya anteriormente se dijo lo que se queria hacer) que es como tal el anotador "
   ]
  },
  {
   "cell_type": "code",
   "execution_count": null,
   "metadata": {},
   "outputs": [],
   "source": [
    "def run_annotations():\n",
    "    annotator_code = input('Ingrese su codigo de anotador: ')\n",
    "    reviews_path = 'data/extended_reviews.csv'\n",
    "    \n",
    "    try:\n",
    "        annotator_reviews = pd.read_csv(f'data/{annotator_code}_reviews.csv')\n",
    "    except:\n",
    "        shutil.copy2(reviews_path, f'data/{annotator_code}_reviews.csv')\n",
    "        annotator_reviews = pd.read_csv(f'data/{annotator_code}_reviews.csv')\n",
    "    \n",
    "    for idx, row in annotator_reviews.iterrows():\n",
    "        \n",
    "        if pd.isna(annotator_reviews.loc[idx, 'Race']):\n",
    "            print('Seleccione la(s) raza(s) que se aprecia(n) en el siguiente review:\\n')\n",
    "            print(row['Review'] + '\\n')\n",
    "            print('1. Negro, 2. Blanco, 3. Asiatico, 4. Latino, 5. Nativo Americano, 6. Indio, 7. Arabe, 8. No se puede determinar\\n')\n",
    "            print('En caso de determinar la raza de un personaje de ser necesario se debe realizar una busqueda en internet.\\n')\n",
    "        \n",
    "            races = input('Ingrese los numeros correspondientes a las razas separados por comas en caso de ser necesario. Ejemplo: 1,2,3\\n')\n",
    "            print('\\n')\n",
    "            races = list_to_races(races)\n",
    "            \n",
    "            annotator_reviews.at[idx, 'Race'] = races\n",
    "            \n",
    "        if pd.isna(annotator_reviews.loc[idx, 'Gender']):\n",
    "            print('Seleccione el genero que se aprecia en el review anterior: \\n')\n",
    "            print('1. Solo Masculino, 2. Solo Femenino, 3. Ambos, 4. No se puede determinar\\n')\n",
    "            gender = int_to_gender(input('Ingrese el numero correspondiente: \\n'))\n",
    "            print('\\n')\n",
    "            annotator_reviews.at[idx, 'Gender'] = gender\n",
    "        \n",
    "        annotator_reviews.to_csv(f'data/{annotator_code}_reviews.csv', index=False, mode='w')"
   ]
  },
  {
   "cell_type": "code",
   "execution_count": null,
   "metadata": {},
   "outputs": [],
   "source": [
    "run_annotations()"
   ]
  }
 ],
 "metadata": {
  "language_info": {
   "name": "python"
  },
  "orig_nbformat": 4
 },
 "nbformat": 4,
 "nbformat_minor": 2
}
