{
 "cells": [
  {
   "attachments": {},
   "cell_type": "markdown",
   "metadata": {},
   "source": [
    "# Title\n",
    "---\n",
    "\n",
    "Explicar aqui para que es este notebook\n",
    "Poner la url del dataset original"
   ]
  },
  {
   "attachments": {},
   "cell_type": "markdown",
   "metadata": {},
   "source": [
    "### Dependencies"
   ]
  },
  {
   "cell_type": "code",
   "execution_count": null,
   "metadata": {},
   "outputs": [],
   "source": [
    "import pandas as pd\n",
    "import shutil\n",
    "from random import randint\n",
    "from numpy import nan"
   ]
  },
  {
   "attachments": {},
   "cell_type": "markdown",
   "metadata": {},
   "source": [
    "# Reading Data\n",
    "---\n",
    "Hablar aqui un poco del dataset y de cuantos datos se van a seleccionar y de que se va a usar pandas."
   ]
  },
  {
   "attachments": {},
   "cell_type": "markdown",
   "metadata": {},
   "source": [
    "Poner aqui la explicacion de lo que se va  ahacer en el codigo de abajo."
   ]
  },
  {
   "cell_type": "code",
   "execution_count": null,
   "metadata": {},
   "outputs": [],
   "source": [
    "def add_reviews_from_to(source, dest, random_choice, *new_cols):\n",
    "    old_reviews = pd.read_csv(source)\n",
    "    print(old_reviews)\n",
    "    try:\n",
    "        extended_reviews = pd.read_csv(dest)\n",
    "    except:\n",
    "        \n",
    "        old_cols = list(old_reviews.columns)\n",
    "        cols_names = old_cols[:-1] + list(new_cols) + [old_cols[-1]]\n",
    "        \n",
    "        extended_reviews = pd.DataFrame(columns=cols_names)\n",
    "        \n",
    "    print(extended_reviews)\n",
    "    #copiar todo el dataset\n",
    "    if not random_choice:\n",
    "        for col in old_reviews:\n",
    "            extended_reviews[col] = old_reviews[col]\n",
    "    else:\n",
    "        count_revs = random_choice\n",
    "        while count_revs > 0:\n",
    "            rnd = randint(0, old_reviews.shape[0] - 1)\n",
    "            review = old_reviews['Review'].iloc[rnd]\n",
    "            sentiment = old_reviews['Sentiment'].iloc[rnd]\n",
    "            \n",
    "            if sentiment == 0:\n",
    "                sentiment = 'negative'\n",
    "            if sentiment == 1:\n",
    "                sentiment = 'positive' \n",
    "                        \n",
    "            if review not in extended_reviews['Review'].values:\n",
    "                count_revs -= 1\n",
    "                new_row = pd.DataFrame({'Review': [review], 'Sentiment': [sentiment]})\n",
    "                extended_reviews = pd.concat([extended_reviews, new_row], ignore_index=True)\n",
    "    \n",
    "    extended_reviews.to_csv(dest, index=False)"
   ]
  },
  {
   "attachments": {},
   "cell_type": "markdown",
   "metadata": {},
   "source": [
    "Explicar aqui lo que se hace debajo"
   ]
  },
  {
   "cell_type": "code",
   "execution_count": null,
   "metadata": {},
   "outputs": [],
   "source": [
    "add_reviews_from_to('data/reviews.csv', 'data/extended_reviews.csv', 0, 'Race')\n",
    "add_reviews_from_to('data/train_data.csv', 'data/extended_reviews.csv', 80)\n"
   ]
  }
 ],
 "metadata": {
  "language_info": {
   "name": "python"
  },
  "orig_nbformat": 4
 },
 "nbformat": 4,
 "nbformat_minor": 2
}
